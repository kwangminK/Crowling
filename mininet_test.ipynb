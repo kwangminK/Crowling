{
  "nbformat": 4,
  "nbformat_minor": 0,
  "metadata": {
    "colab": {
      "provenance": [],
      "authorship_tag": "ABX9TyN8iRLBnWqglSjvcfRh7W6S",
      "include_colab_link": true
    },
    "kernelspec": {
      "name": "python3",
      "display_name": "Python 3"
    },
    "language_info": {
      "name": "python"
    }
  },
  "cells": [
    {
      "cell_type": "markdown",
      "metadata": {
        "id": "view-in-github",
        "colab_type": "text"
      },
      "source": [
        "<a href=\"https://colab.research.google.com/github/kwangminK/Crowling/blob/main/mininet_test.ipynb\" target=\"_parent\"><img src=\"https://colab.research.google.com/assets/colab-badge.svg\" alt=\"Open In Colab\"/></a>"
      ]
    },
    {
      "cell_type": "code",
      "execution_count": null,
      "metadata": {
        "id": "sDu3hWP3jFXl"
      },
      "outputs": [],
      "source": [
        "import torch\n",
        "from torch import nn\n",
        "from torch import optim"
      ]
    },
    {
      "cell_type": "code",
      "source": [
        "x=torch.randn(100,3)\n",
        "layer = nn.Linear(3,5)\n",
        "print(layer(x).shape)\n",
        "print(layer.weight)\n",
        "print(layer.bias)"
      ],
      "metadata": {
        "colab": {
          "base_uri": "https://localhost:8080/"
        },
        "id": "UEjDB3XRjZJy",
        "outputId": "81b75baa-8265-408f-8056-d47500b64d1b"
      },
      "execution_count": null,
      "outputs": [
        {
          "output_type": "stream",
          "name": "stdout",
          "text": [
            "torch.Size([100, 5])\n",
            "Parameter containing:\n",
            "tensor([[ 0.5727,  0.2223, -0.1237],\n",
            "        [ 0.5685,  0.0817, -0.3573],\n",
            "        [-0.0531,  0.3884, -0.0801],\n",
            "        [ 0.1900,  0.4881, -0.4303],\n",
            "        [ 0.3568,  0.0615, -0.5364]], requires_grad=True)\n",
            "Parameter containing:\n",
            "tensor([-0.5526,  0.4363, -0.5140, -0.1469,  0.5566], requires_grad=True)\n"
          ]
        }
      ]
    },
    {
      "cell_type": "code",
      "source": [
        "x=torch.randn(2,5)\n",
        "layer=nn.ReLU() # 음수는 0, 양수는 그대로 통과\n",
        "print(layer(x))"
      ],
      "metadata": {
        "colab": {
          "base_uri": "https://localhost:8080/"
        },
        "id": "_8wL4u5hjp7a",
        "outputId": "60c281de-012a-45ba-e550-13c42478f0f3"
      },
      "execution_count": null,
      "outputs": [
        {
          "output_type": "stream",
          "name": "stdout",
          "text": [
            "tensor([[0.2800, 0.0000, 1.1287, 0.0000, 0.0000],\n",
            "        [0.0000, 0.0000, 0.0000, 1.3106, 0.1386]])\n"
          ]
        }
      ]
    },
    {
      "cell_type": "code",
      "source": [
        "x= torch.randn(3,7)\n",
        "drop = nn.Dropout(p=0.3) # p는 죽일 확률\n",
        "# 죽이면 0으로 통과된다.\n",
        "print(drop(x))"
      ],
      "metadata": {
        "colab": {
          "base_uri": "https://localhost:8080/"
        },
        "id": "BFo40BOAj4-w",
        "outputId": "38c149a9-de96-4a34-89f2-26f66c7a4338"
      },
      "execution_count": null,
      "outputs": [
        {
          "output_type": "stream",
          "name": "stdout",
          "text": [
            "tensor([[-2.3303, -0.0000,  0.8410, -0.0000,  2.0958, -0.6162,  0.5172],\n",
            "        [ 2.7774, -3.8665,  0.8504,  0.4953,  0.0000,  1.2857, -0.0000],\n",
            "        [-1.6386, -0.0000,  0.0000,  1.0260,  0.0000,  0.5531, -1.0829]])\n"
          ]
        }
      ]
    },
    {
      "cell_type": "code",
      "source": [
        "class sample_model(nn.Module):\n",
        "    def __init__(self):\n",
        "        super().__init__()\n",
        "        self.drop_layer=nn.Sequential(nn.Linear(5,7),\n",
        "                                      nn.Dropout(p=0.3))\n",
        "                                      \n",
        "    def forward(self, x):\n",
        "        x = self.drop_layer(x)\n",
        "        return x\n",
        "\n",
        "model=sample_model()\n",
        "model.train() # train mode로 전환\n",
        "x=torch.randn(3,5) # 그 담에 x=torch.randn(2,3,5)\n",
        "print(model(x))\n",
        "\n",
        "model.eval()\n",
        "print(model(x)) # test mode\n",
        "# test에서는 weight에 살릴 확률을 곱하여 드롭아웃하지 않고, 통과한다."
      ],
      "metadata": {
        "colab": {
          "base_uri": "https://localhost:8080/"
        },
        "id": "NHMEXf8QkNlz",
        "outputId": "3b08c2d3-91c5-4324-8bca-e3ba664e041d"
      },
      "execution_count": null,
      "outputs": [
        {
          "output_type": "stream",
          "name": "stdout",
          "text": [
            "tensor([[-0.0000, -0.0000, -0.7226, -0.0000, -0.0000,  0.0000,  0.0000],\n",
            "        [-0.2532, -0.9571,  0.1233, -0.0000, -0.0000,  0.9946,  0.0000],\n",
            "        [ 0.0000, -1.2533,  0.1459,  0.1525, -0.0000,  0.0000,  0.0977]],\n",
            "       grad_fn=<MulBackward0>)\n",
            "tensor([[-0.2863, -1.2834, -0.5058, -0.3712, -0.9334,  1.0518,  0.3817],\n",
            "        [-0.1772, -0.6700,  0.0863, -0.0788, -0.5712,  0.6962,  0.4156],\n",
            "        [ 0.3440, -0.8773,  0.1021,  0.1067, -0.4144,  0.8338,  0.0684]],\n",
            "       grad_fn=<AddmmBackward0>)\n"
          ]
        }
      ]
    },
    {
      "cell_type": "code",
      "source": [
        "layer = nn.Conv2d(in_channels=1, out_channels=2, kernel_size=3) # stride=1, padding=0 이 디폴트\n",
        "layer(torch.randn(32,1,5,5)).shape\n",
        "# nn.Linear(3,5) # 채채 #얘는 채또는 개채를 원함, 개x3 => 개x5\n",
        "# nn.Conv2d(3,5) # 채채 # 근데 얘는 채행렬 또는 개채행렬을 원함, 개x3x행x렬 => 개x5x행x렬"
      ],
      "metadata": {
        "colab": {
          "base_uri": "https://localhost:8080/"
        },
        "id": "9xegI9e1l-hz",
        "outputId": "0a22f7ee-d995-49d9-8bad-7a36e81d7cc5"
      },
      "execution_count": null,
      "outputs": [
        {
          "output_type": "execute_result",
          "data": {
            "text/plain": [
              "torch.Size([32, 2, 3, 3])"
            ]
          },
          "metadata": {},
          "execution_count": 14
        }
      ]
    },
    {
      "cell_type": "code",
      "source": [
        "layer = nn.Conv2d(3,5,3) # weight가 3x3x3짜리 5개 존재\n",
        "print(layer(torch.randn(32,3,5,5)).shape)\n",
        "print(layer.weight.shape) \n",
        "# >>>torch.Size([5개의 커널, 3개의 전단계의 채널, 3, 3]) 3x3짜리 커널"
      ],
      "metadata": {
        "colab": {
          "base_uri": "https://localhost:8080/"
        },
        "id": "kRHrggo4nwFI",
        "outputId": "0b87cd70-3b5f-4cfd-dbb5-578d5a482728"
      },
      "execution_count": null,
      "outputs": [
        {
          "output_type": "stream",
          "name": "stdout",
          "text": [
            "torch.Size([32, 5, 3, 3])\n",
            "torch.Size([5, 3, 3, 3])\n"
          ]
        }
      ]
    },
    {
      "cell_type": "code",
      "source": [
        "conv1 = nn.Conv2d(1,8,6, stride=2)\n",
        "x = torch.randn(32,1,28,28)\n",
        "print(conv1(x).shape)\n",
        "print(conv1.weight.shape)\n",
        "\n",
        "conv2 = nn.Conv2d(8,16,3, padding=1) # padding=1 커널 사이즈 유지\n",
        "print(conv2(conv1(x)).shape)\n",
        "\n",
        "MaxPool = nn.MaxPool2d(kernel_size=2, stride=(2,2))\n",
        "print(MaxPool(conv2(conv1(x))).shape)"
      ],
      "metadata": {
        "colab": {
          "base_uri": "https://localhost:8080/"
        },
        "id": "789oXiSEsfMR",
        "outputId": "7e8cde6f-de4e-497a-9a6f-73f4b079e4fa"
      },
      "execution_count": null,
      "outputs": [
        {
          "output_type": "stream",
          "name": "stdout",
          "text": [
            "torch.Size([32, 8, 12, 12])\n",
            "torch.Size([8, 1, 6, 6])\n",
            "torch.Size([32, 16, 12, 12])\n",
            "torch.Size([32, 16, 6, 6])\n"
          ]
        }
      ]
    },
    {
      "cell_type": "code",
      "source": [
        "maxpool = nn.MaxPool2d(2)\n",
        "x= torch.randn(1,6,6)\n",
        "print(x)\n",
        "print(maxpool(x))\n",
        "print(maxpool(torch.randn(32,3,6,6)).shape)"
      ],
      "metadata": {
        "colab": {
          "base_uri": "https://localhost:8080/"
        },
        "id": "yZXxfWNIuAZv",
        "outputId": "06889f0e-ae14-4824-bc10-cb87dc350b36"
      },
      "execution_count": null,
      "outputs": [
        {
          "output_type": "stream",
          "name": "stdout",
          "text": [
            "tensor([[[ 1.0661, -0.8072, -2.3912, -0.3228,  0.2031, -0.4252],\n",
            "         [ 0.2895, -0.4701, -0.6140, -2.0668,  0.0909,  0.3200],\n",
            "         [ 0.1219,  1.4791, -2.9433, -2.8630, -0.9424, -0.7350],\n",
            "         [-2.0227, -1.1433,  1.2258,  0.5360, -1.4818, -0.1243],\n",
            "         [ 0.8882, -0.2548, -1.1313, -1.3912, -0.2206,  0.2007],\n",
            "         [-1.4542,  0.3301,  3.0546,  0.1853, -1.6771,  0.7605]]])\n",
            "tensor([[[ 1.0661, -0.3228,  0.3200],\n",
            "         [ 1.4791,  1.2258, -0.1243],\n",
            "         [ 0.8882,  3.0546,  0.7605]]])\n",
            "torch.Size([32, 3, 3, 3])\n"
          ]
        }
      ]
    },
    {
      "cell_type": "code",
      "source": [
        "avgpool = nn.AvgPool2d(2)\n",
        "x= torch.randn(1,6,6)\n",
        "print(x)\n",
        "print(avgpool(x))\n",
        "print(avgpool(torch.randn(32,3,6,6)).shape)"
      ],
      "metadata": {
        "colab": {
          "base_uri": "https://localhost:8080/"
        },
        "id": "-WMidpXuuRst",
        "outputId": "4fc77be0-0c14-4605-f858-3ab17dd7c5b5"
      },
      "execution_count": null,
      "outputs": [
        {
          "output_type": "stream",
          "name": "stdout",
          "text": [
            "tensor([[[-0.8174,  0.4074, -0.7465,  0.2245,  1.6700, -1.1934],\n",
            "         [-0.2566, -1.0873,  0.2743,  0.0334,  0.1821,  0.9852],\n",
            "         [ 1.7390, -1.5211,  0.6394, -0.2092,  1.6672, -0.1714],\n",
            "         [-2.0078,  1.4508,  1.4841, -0.2647, -1.4111,  0.0327],\n",
            "         [ 0.9907, -0.9130,  0.3100,  0.0954, -1.1122,  0.2181],\n",
            "         [-1.7583, -0.0841, -0.1771, -0.2324,  0.3786,  0.5118]]])\n",
            "tensor([[[-0.4385, -0.0536,  0.4110],\n",
            "         [-0.0848,  0.4124,  0.0293],\n",
            "         [-0.4412, -0.0010, -0.0009]]])\n",
            "torch.Size([32, 3, 3, 3])\n"
          ]
        }
      ]
    },
    {
      "cell_type": "code",
      "source": [
        "class CNN(nn.Module):\n",
        "    def __init__(self):\n",
        "        super().__init__()\n",
        "\n",
        "        self.conv1 = nn.Conv2d(1,8,6,stride=2)\n",
        "        self.conv2 = nn.Conv2d(8,16,3,padding=1)\n",
        "        self.Maxpool = nn.MaxPool2d(2)\n",
        "        self.fc = nn.Linear(16*6*6,10)\n",
        "\n",
        "    def forward(self,x):\n",
        "        x = self.conv1(x)\n",
        "        x = self.conv2(x)\n",
        "        x = self.Maxpool(x)\n",
        "        x = torch.flatten(x, start_dim=1) #이것과 밑에것을 주석처리하고 실행시키면 linear에 들어가는것을 알수있음\n",
        "        x = self.fc(x)\n",
        "        return x\n",
        "\n",
        "x = torch.randn(32,1,28,28)\n",
        "model = CNN()\n",
        "print(model(x).shape)"
      ],
      "metadata": {
        "colab": {
          "base_uri": "https://localhost:8080/"
        },
        "id": "tBe88phBuXsO",
        "outputId": "3f3174bc-2c1b-4fdf-f42a-cdeef5f13abd"
      },
      "execution_count": null,
      "outputs": [
        {
          "output_type": "stream",
          "name": "stdout",
          "text": [
            "torch.Size([32, 10])\n"
          ]
        }
      ]
    },
    {
      "cell_type": "markdown",
      "source": [
        "## .parameters() vs .modules() vs. children() 그리고 isinstance의 활용"
      ],
      "metadata": {
        "id": "9tSO9LbE8ukN"
      }
    },
    {
      "cell_type": "code",
      "source": [
        "class MLP(nn.Module):\n",
        "    def __init__(self):\n",
        "        super().__init__()\n",
        "        self.fc1 = nn.Sequential(nn.Linear(2,3),\n",
        "                                 nn.ReLU())\n",
        "        self.fc2 = nn.Sequential(nn.Linear(3,4),\n",
        "                                 nn.ReLU())\n",
        "        self.fc_out = nn.Sequential(nn.Linear(4,1),\n",
        "                                    nn.Sigmoid())\n",
        "    def forward(self,x):\n",
        "        x = self.fc1(x)\n",
        "        x = self.fc2(x)\n",
        "        x = self.fc_out(x)\n",
        "        return x\n",
        "        \n",
        "model = MLP()\n",
        "print(model(torch.randn(2,2)).shape)\n",
        "print(model)"
      ],
      "metadata": {
        "id": "agzfJNTOvC7n",
        "colab": {
          "base_uri": "https://localhost:8080/"
        },
        "outputId": "a77424d4-eb82-4773-92d2-c0f136c9df1a"
      },
      "execution_count": null,
      "outputs": [
        {
          "output_type": "stream",
          "name": "stdout",
          "text": [
            "torch.Size([2, 1])\n",
            "MLP(\n",
            "  (fc1): Sequential(\n",
            "    (0): Linear(in_features=2, out_features=3, bias=True)\n",
            "    (1): ReLU()\n",
            "  )\n",
            "  (fc2): Sequential(\n",
            "    (0): Linear(in_features=3, out_features=4, bias=True)\n",
            "    (1): ReLU()\n",
            "  )\n",
            "  (fc_out): Sequential(\n",
            "    (0): Linear(in_features=4, out_features=1, bias=True)\n",
            "    (1): Sigmoid()\n",
            "  )\n",
            ")\n"
          ]
        }
      ]
    },
    {
      "cell_type": "code",
      "source": [
        "model.parameters()"
      ],
      "metadata": {
        "colab": {
          "base_uri": "https://localhost:8080/"
        },
        "id": "bo1luHGx8-q9",
        "outputId": "2cbcf895-f949-4d45-87dd-228042d65402"
      },
      "execution_count": null,
      "outputs": [
        {
          "output_type": "execute_result",
          "data": {
            "text/plain": [
              "<generator object Module.parameters at 0x7fe1ed188cf0>"
            ]
          },
          "metadata": {},
          "execution_count": 21
        }
      ]
    },
    {
      "cell_type": "code",
      "source": [
        "list(model.parameters())[0]\n",
        "# [layer0 weight 값, layer0 bias 값, layer1 weight 값, layer1 bias 값, ...]"
      ],
      "metadata": {
        "colab": {
          "base_uri": "https://localhost:8080/"
        },
        "id": "CgN9SRHH9JSq",
        "outputId": "93443f1f-0da5-4690-f157-b67aec12a623"
      },
      "execution_count": null,
      "outputs": [
        {
          "output_type": "execute_result",
          "data": {
            "text/plain": [
              "Parameter containing:\n",
              "tensor([[-0.4239, -0.3028],\n",
              "        [-0.0127, -0.0641],\n",
              "        [ 0.2500, -0.4777]], requires_grad=True)"
            ]
          },
          "metadata": {},
          "execution_count": 22
        }
      ]
    },
    {
      "cell_type": "code",
      "source": [
        "# for transfer learning\n",
        "model = MLP()\n",
        "\n",
        "for p in model.parameters(): # 전체 freeze 학습하지않겠다.\n",
        "    p.requires_grad = False \n",
        "model.fc_out = nn.Linear(4,10) # 이렇게 하는 순간 requires_grad = True\n",
        "\n",
        "params = [p for p in model.parameters()]\n",
        "print(params)\n"
      ],
      "metadata": {
        "colab": {
          "base_uri": "https://localhost:8080/"
        },
        "id": "Ax9xBbAh9f7k",
        "outputId": "47113e82-5b98-49a6-d67e-3eef8ff6f363"
      },
      "execution_count": null,
      "outputs": [
        {
          "output_type": "stream",
          "name": "stdout",
          "text": [
            "[Parameter containing:\n",
            "tensor([[-0.1397, -0.0223],\n",
            "        [-0.5707, -0.6512],\n",
            "        [ 0.5496, -0.5940]]), Parameter containing:\n",
            "tensor([ 0.4537, -0.0643,  0.3841]), Parameter containing:\n",
            "tensor([[-0.3149,  0.3908, -0.2068],\n",
            "        [-0.1922, -0.5634,  0.2981],\n",
            "        [-0.1644,  0.3122, -0.1824],\n",
            "        [-0.1548, -0.1457, -0.3756]]), Parameter containing:\n",
            "tensor([ 0.5513, -0.3423, -0.2688, -0.5746]), Parameter containing:\n",
            "tensor([[-0.0990,  0.2766, -0.4011,  0.3329],\n",
            "        [ 0.1677,  0.2721,  0.2828, -0.0207],\n",
            "        [ 0.1096, -0.3946,  0.0477,  0.2217],\n",
            "        [ 0.1411,  0.4644,  0.3425,  0.2077],\n",
            "        [ 0.2591, -0.2632, -0.2729,  0.3236],\n",
            "        [-0.1293,  0.3663, -0.4023,  0.3493],\n",
            "        [ 0.1964,  0.3094, -0.3887,  0.4245],\n",
            "        [-0.3033,  0.3585,  0.1290,  0.3366],\n",
            "        [ 0.3829,  0.0898,  0.0013, -0.1901],\n",
            "        [-0.3746, -0.2144, -0.3620, -0.0820]], requires_grad=True), Parameter containing:\n",
            "tensor([-0.0308,  0.3636, -0.4807, -0.1876, -0.0129,  0.4031,  0.3380,  0.3407,\n",
            "        -0.2660,  0.1380], requires_grad=True)]\n"
          ]
        }
      ]
    },
    {
      "cell_type": "code",
      "source": [
        "list(model.named_parameters())\n",
        "# [('layer0.weight', weight 값), ('layer0.bias', bias 값), ('layer1.weight', weight 값), ('layer1.bias', bias 값), ...]"
      ],
      "metadata": {
        "colab": {
          "base_uri": "https://localhost:8080/"
        },
        "id": "zL-847Xx_f9j",
        "outputId": "d997eb56-ea85-4b4f-ab74-72d2220a1ef2"
      },
      "execution_count": null,
      "outputs": [
        {
          "output_type": "execute_result",
          "data": {
            "text/plain": [
              "[('fc1.0.weight', Parameter containing:\n",
              "  tensor([[-0.1397, -0.0223],\n",
              "          [-0.5707, -0.6512],\n",
              "          [ 0.5496, -0.5940]])), ('fc1.0.bias', Parameter containing:\n",
              "  tensor([ 0.4537, -0.0643,  0.3841])), ('fc2.0.weight', Parameter containing:\n",
              "  tensor([[-0.3149,  0.3908, -0.2068],\n",
              "          [-0.1922, -0.5634,  0.2981],\n",
              "          [-0.1644,  0.3122, -0.1824],\n",
              "          [-0.1548, -0.1457, -0.3756]])), ('fc2.0.bias', Parameter containing:\n",
              "  tensor([ 0.5513, -0.3423, -0.2688, -0.5746])), ('fc_out.weight',\n",
              "  Parameter containing:\n",
              "  tensor([[-0.0990,  0.2766, -0.4011,  0.3329],\n",
              "          [ 0.1677,  0.2721,  0.2828, -0.0207],\n",
              "          [ 0.1096, -0.3946,  0.0477,  0.2217],\n",
              "          [ 0.1411,  0.4644,  0.3425,  0.2077],\n",
              "          [ 0.2591, -0.2632, -0.2729,  0.3236],\n",
              "          [-0.1293,  0.3663, -0.4023,  0.3493],\n",
              "          [ 0.1964,  0.3094, -0.3887,  0.4245],\n",
              "          [-0.3033,  0.3585,  0.1290,  0.3366],\n",
              "          [ 0.3829,  0.0898,  0.0013, -0.1901],\n",
              "          [-0.3746, -0.2144, -0.3620, -0.0820]], requires_grad=True)), ('fc_out.bias',\n",
              "  Parameter containing:\n",
              "  tensor([-0.0308,  0.3636, -0.4807, -0.1876, -0.0129,  0.4031,  0.3380,  0.3407,\n",
              "          -0.2660,  0.1380], requires_grad=True))]"
            ]
          },
          "metadata": {},
          "execution_count": 26
        }
      ]
    },
    {
      "cell_type": "code",
      "source": [
        "for name, p in model.named_parameters():\n",
        "    print(name)"
      ],
      "metadata": {
        "colab": {
          "base_uri": "https://localhost:8080/"
        },
        "id": "0BU7d6NF_rCC",
        "outputId": "76c2c499-d76a-41ff-8369-5b0bc4b0dff6"
      },
      "execution_count": null,
      "outputs": [
        {
          "output_type": "stream",
          "name": "stdout",
          "text": [
            "fc1.0.weight\n",
            "fc1.0.bias\n",
            "fc2.0.weight\n",
            "fc2.0.bias\n",
            "fc_out.weight\n",
            "fc_out.bias\n"
          ]
        }
      ]
    },
    {
      "cell_type": "code",
      "source": [
        "model.modules()"
      ],
      "metadata": {
        "colab": {
          "base_uri": "https://localhost:8080/"
        },
        "id": "T1q9NKUf_y3O",
        "outputId": "90eb2cb6-88d9-4bc2-cc89-e873d11ab93f"
      },
      "execution_count": null,
      "outputs": [
        {
          "output_type": "execute_result",
          "data": {
            "text/plain": [
              "<generator object Module.modules at 0x7fe1ecf5e510>"
            ]
          },
          "metadata": {},
          "execution_count": 28
        }
      ]
    },
    {
      "cell_type": "code",
      "source": [
        "list(model.modules())[0] # 0은 전체 "
      ],
      "metadata": {
        "colab": {
          "base_uri": "https://localhost:8080/"
        },
        "id": "s1mTuWWy_1Ns",
        "outputId": "71ac32ab-abd4-42d2-d36e-5771fa0ddf4d"
      },
      "execution_count": null,
      "outputs": [
        {
          "output_type": "execute_result",
          "data": {
            "text/plain": [
              "MLP(\n",
              "  (fc1): Sequential(\n",
              "    (0): Linear(in_features=2, out_features=3, bias=True)\n",
              "    (1): ReLU()\n",
              "  )\n",
              "  (fc2): Sequential(\n",
              "    (0): Linear(in_features=3, out_features=4, bias=True)\n",
              "    (1): ReLU()\n",
              "  )\n",
              "  (fc_out): Linear(in_features=4, out_features=10, bias=True)\n",
              ")"
            ]
          },
          "metadata": {},
          "execution_count": 36
        }
      ]
    },
    {
      "cell_type": "code",
      "source": [
        "print([m for m in model.modules() if isinstance(m, nn.Linear)])\n",
        "print([m.weight for m in model.modules() if isinstance(m, nn.Linear)])\n",
        "print([m.weight.grad for m in model.modules() if isinstance(m, nn.Linear)])"
      ],
      "metadata": {
        "colab": {
          "base_uri": "https://localhost:8080/"
        },
        "id": "AZ3B5CuxAUmL",
        "outputId": "170455a9-a129-422b-e2da-c1355570952b"
      },
      "execution_count": null,
      "outputs": [
        {
          "output_type": "stream",
          "name": "stdout",
          "text": [
            "[Linear(in_features=2, out_features=3, bias=True), Linear(in_features=3, out_features=4, bias=True), Linear(in_features=4, out_features=10, bias=True)]\n",
            "[Parameter containing:\n",
            "tensor([[-0.1397, -0.0223],\n",
            "        [-0.5707, -0.6512],\n",
            "        [ 0.5496, -0.5940]]), Parameter containing:\n",
            "tensor([[-0.3149,  0.3908, -0.2068],\n",
            "        [-0.1922, -0.5634,  0.2981],\n",
            "        [-0.1644,  0.3122, -0.1824],\n",
            "        [-0.1548, -0.1457, -0.3756]]), Parameter containing:\n",
            "tensor([[-0.0990,  0.2766, -0.4011,  0.3329],\n",
            "        [ 0.1677,  0.2721,  0.2828, -0.0207],\n",
            "        [ 0.1096, -0.3946,  0.0477,  0.2217],\n",
            "        [ 0.1411,  0.4644,  0.3425,  0.2077],\n",
            "        [ 0.2591, -0.2632, -0.2729,  0.3236],\n",
            "        [-0.1293,  0.3663, -0.4023,  0.3493],\n",
            "        [ 0.1964,  0.3094, -0.3887,  0.4245],\n",
            "        [-0.3033,  0.3585,  0.1290,  0.3366],\n",
            "        [ 0.3829,  0.0898,  0.0013, -0.1901],\n",
            "        [-0.3746, -0.2144, -0.3620, -0.0820]], requires_grad=True)]\n",
            "[None, None, None]\n"
          ]
        }
      ]
    },
    {
      "cell_type": "code",
      "source": [
        "# weight initialization에 활용\n",
        "for m in model.modules():\n",
        "    if isinstance(m, nn.Linear):\n",
        "        nn.init.kaiming_normal_(m.weight)\n",
        "        nn.init.constant_(m.weight,1)\n",
        "print([m.weight for m in model.modules() if isinstance(m, nn.Linear)])"
      ],
      "metadata": {
        "colab": {
          "base_uri": "https://localhost:8080/"
        },
        "id": "eFsQHKc_ArK9",
        "outputId": "c6520eac-4fd2-4c96-a470-7b5ab7edddd4"
      },
      "execution_count": null,
      "outputs": [
        {
          "output_type": "stream",
          "name": "stdout",
          "text": [
            "[Parameter containing:\n",
            "tensor([[1., 1.],\n",
            "        [1., 1.],\n",
            "        [1., 1.]]), Parameter containing:\n",
            "tensor([[1., 1., 1.],\n",
            "        [1., 1., 1.],\n",
            "        [1., 1., 1.],\n",
            "        [1., 1., 1.]]), Parameter containing:\n",
            "tensor([[1., 1., 1., 1.],\n",
            "        [1., 1., 1., 1.],\n",
            "        [1., 1., 1., 1.],\n",
            "        [1., 1., 1., 1.],\n",
            "        [1., 1., 1., 1.],\n",
            "        [1., 1., 1., 1.],\n",
            "        [1., 1., 1., 1.],\n",
            "        [1., 1., 1., 1.],\n",
            "        [1., 1., 1., 1.],\n",
            "        [1., 1., 1., 1.]], requires_grad=True)]\n"
          ]
        }
      ]
    },
    {
      "cell_type": "code",
      "source": [
        "model.children()"
      ],
      "metadata": {
        "colab": {
          "base_uri": "https://localhost:8080/"
        },
        "id": "A7V0GtZ_BTSQ",
        "outputId": "519b1874-9a64-43c9-b1ee-e0eea73e562f"
      },
      "execution_count": null,
      "outputs": [
        {
          "output_type": "execute_result",
          "data": {
            "text/plain": [
              "<generator object Module.children at 0x7fe1ecf29510>"
            ]
          },
          "metadata": {},
          "execution_count": 42
        }
      ]
    },
    {
      "cell_type": "code",
      "source": [
        "list(model.children())"
      ],
      "metadata": {
        "colab": {
          "base_uri": "https://localhost:8080/"
        },
        "id": "blevZ_OvBVJf",
        "outputId": "64dc41f2-3701-48a6-be5a-ec8aedda4769"
      },
      "execution_count": null,
      "outputs": [
        {
          "output_type": "execute_result",
          "data": {
            "text/plain": [
              "[Sequential(\n",
              "   (0): Linear(in_features=2, out_features=3, bias=True)\n",
              "   (1): ReLU()\n",
              " ), Sequential(\n",
              "   (0): Linear(in_features=3, out_features=4, bias=True)\n",
              "   (1): ReLU()\n",
              " ), Linear(in_features=4, out_features=10, bias=True)]"
            ]
          },
          "metadata": {},
          "execution_count": 50
        }
      ]
    },
    {
      "cell_type": "code",
      "source": [
        "x=torch.randn(2,2)\n",
        "list(model.children())[0](x)"
      ],
      "metadata": {
        "colab": {
          "base_uri": "https://localhost:8080/"
        },
        "id": "54vZtYMLBjYA",
        "outputId": "e347d40a-6a21-4b2f-a8f7-26c9b5a3762e"
      },
      "execution_count": null,
      "outputs": [
        {
          "output_type": "execute_result",
          "data": {
            "text/plain": [
              "tensor([[0.7480, 0.2301, 0.6785],\n",
              "        [2.4958, 1.9778, 2.4262]])"
            ]
          },
          "metadata": {},
          "execution_count": 51
        }
      ]
    },
    {
      "cell_type": "code",
      "source": [
        "sub_network = nn.Sequential(*list(model.children())[:2])\n",
        "print(sub_network)\n",
        "sub_network(x)"
      ],
      "metadata": {
        "colab": {
          "base_uri": "https://localhost:8080/"
        },
        "id": "RxcyPkPHBqcD",
        "outputId": "ad08b752-af88-4027-fe7a-d2952102f19d"
      },
      "execution_count": null,
      "outputs": [
        {
          "output_type": "stream",
          "name": "stdout",
          "text": [
            "Sequential(\n",
            "  (0): Sequential(\n",
            "    (0): Linear(in_features=2, out_features=3, bias=True)\n",
            "    (1): ReLU()\n",
            "  )\n",
            "  (1): Sequential(\n",
            "    (0): Linear(in_features=3, out_features=4, bias=True)\n",
            "    (1): ReLU()\n",
            "  )\n",
            ")\n"
          ]
        },
        {
          "output_type": "execute_result",
          "data": {
            "text/plain": [
              "tensor([[2.2078, 1.3142, 1.3878, 1.0819],\n",
              "        [7.4511, 6.5575, 6.6310, 6.3252]])"
            ]
          },
          "metadata": {},
          "execution_count": 55
        }
      ]
    },
    {
      "cell_type": "markdown",
      "source": [
        "## Sequential vs ModuleList"
      ],
      "metadata": {
        "id": "MNJKtLQ3CJEk"
      }
    },
    {
      "cell_type": "code",
      "source": [
        "fc=nn.Linear(3,3)\n",
        "layer_list = [fc for _ in range(5)]\n",
        "layers1 = nn.Sequential(*layer_list)\n",
        "layers2 = nn.ModuleList(layer_list)\n",
        "print(layers1)\n",
        "print(layers2)\n",
        "\n",
        "x=torch.randn(1,3)\n",
        "print(layers1(x))\n",
        "\n",
        "# print(layers2(x)) # error!\n",
        "for layer in layers2:\n",
        "    x = layer(x)\n",
        "print(x)"
      ],
      "metadata": {
        "colab": {
          "base_uri": "https://localhost:8080/"
        },
        "id": "e-_gO-J6CHKv",
        "outputId": "b359e822-7528-47aa-d117-955d7a37eab4"
      },
      "execution_count": null,
      "outputs": [
        {
          "output_type": "stream",
          "name": "stdout",
          "text": [
            "Sequential(\n",
            "  (0): Linear(in_features=3, out_features=3, bias=True)\n",
            "  (1): Linear(in_features=3, out_features=3, bias=True)\n",
            "  (2): Linear(in_features=3, out_features=3, bias=True)\n",
            "  (3): Linear(in_features=3, out_features=3, bias=True)\n",
            "  (4): Linear(in_features=3, out_features=3, bias=True)\n",
            ")\n",
            "ModuleList(\n",
            "  (0): Linear(in_features=3, out_features=3, bias=True)\n",
            "  (1): Linear(in_features=3, out_features=3, bias=True)\n",
            "  (2): Linear(in_features=3, out_features=3, bias=True)\n",
            "  (3): Linear(in_features=3, out_features=3, bias=True)\n",
            "  (4): Linear(in_features=3, out_features=3, bias=True)\n",
            ")\n",
            "tensor([[ 0.4349, -0.0303, -0.2643]], grad_fn=<AddmmBackward0>)\n",
            "tensor([[ 0.4349, -0.0303, -0.2643]], grad_fn=<AddmmBackward0>)\n"
          ]
        }
      ]
    },
    {
      "cell_type": "code",
      "source": [
        "# 걍 리스트 쓰지 왜 nn.ModuleList 를 쓸까?\n",
        "class testNet(nn.Module):\n",
        "    def __init__(self):\n",
        "        super().__init__()\n",
        "\n",
        "        # self.Module_List = [nn.Linear(3,3), nn.Linear(3,3)]\n",
        "        self.Module_List = nn.ModuleList([nn.Linear(3,3), nn.Linear(3,3)])\n",
        "\n",
        "    def forward(self,x):\n",
        "        for layer in self.Module_List:\n",
        "            x = layer(x)\n",
        "        return x\n",
        "\n",
        "model=testNet()\n",
        "print(model(torch.randn(1,3)))\n",
        "\n",
        "print(model) # 그냥 리스트로 하면 등록이 안돼있다! 인식을 못함.\n",
        "\n",
        "optimizer = optim.Adam(model.parameters(), lr = 0.1) # 등록이 안돼있으면 parameter를 못 찾는다!"
      ],
      "metadata": {
        "colab": {
          "base_uri": "https://localhost:8080/"
        },
        "id": "av3_cIrqCbOj",
        "outputId": "0337046f-efb0-4707-fc40-a2171a6135dc"
      },
      "execution_count": null,
      "outputs": [
        {
          "output_type": "stream",
          "name": "stdout",
          "text": [
            "tensor([[0.8074, 0.4268, 0.1566]], grad_fn=<AddmmBackward0>)\n",
            "testNet(\n",
            "  (Module_List): ModuleList(\n",
            "    (0): Linear(in_features=3, out_features=3, bias=True)\n",
            "    (1): Linear(in_features=3, out_features=3, bias=True)\n",
            "  )\n",
            ")\n"
          ]
        }
      ]
    },
    {
      "cell_type": "code",
      "source": [
        "# 그럼 nn.Sequential 쓰고 말지 왜 굳이 nn.ModuleList?\n",
        "class small_block(nn.Module):\n",
        "    def __init__(self):\n",
        "        super().__init__()\n",
        "        self.block_x = nn.Linear(1,1)\n",
        "        self.block_y = nn.Linear(1,1)\n",
        "\n",
        "    def forward(self, x, y):\n",
        "        x = self.block_x(x)\n",
        "        y = self.block_y(y)\n",
        "        return x, y\n",
        "\n",
        "block = small_block()\n",
        "print(block)\n",
        "model = nn.Sequential(block, block)\n",
        "print(model)\n",
        "# model(torch.randn(1),torch.randn(1)) # error!\n",
        "# nn.Sequential 이 가지고 있는 forward 함수를 call 하기 때문에 입력을 두 개 넣으면 안된다!!\n",
        "# nn.Sequential 이 가지고 있는 forward 함수는 (self,x)로 정의되어서 x,y 두개가 들어가지 못함.\n",
        "\n",
        "model = nn.ModuleList([block,block])\n",
        "x = torch.randn(1)\n",
        "y = torch.randn(1)\n",
        "for block in model:\n",
        "    x, y = block(x,y)\n",
        "print(x, y)"
      ],
      "metadata": {
        "colab": {
          "base_uri": "https://localhost:8080/"
        },
        "id": "_kXlzLG9DPgo",
        "outputId": "a4207ac9-9213-4596-c890-107fe9bac716"
      },
      "execution_count": null,
      "outputs": [
        {
          "output_type": "stream",
          "name": "stdout",
          "text": [
            "small_block(\n",
            "  (block_x): Linear(in_features=1, out_features=1, bias=True)\n",
            "  (block_y): Linear(in_features=1, out_features=1, bias=True)\n",
            ")\n",
            "Sequential(\n",
            "  (0): small_block(\n",
            "    (block_x): Linear(in_features=1, out_features=1, bias=True)\n",
            "    (block_y): Linear(in_features=1, out_features=1, bias=True)\n",
            "  )\n",
            "  (1): small_block(\n",
            "    (block_x): Linear(in_features=1, out_features=1, bias=True)\n",
            "    (block_y): Linear(in_features=1, out_features=1, bias=True)\n",
            "  )\n",
            ")\n",
            "tensor([-0.6400], grad_fn=<AddBackward0>) tensor([-2.8189], grad_fn=<AddBackward0>)\n"
          ]
        }
      ]
    }
  ]
}